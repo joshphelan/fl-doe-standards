{
 "cells": [
  {
   "cell_type": "markdown",
   "metadata": {},
   "source": [
    "# Benchmark Pickle Viewer\n",
    "\n",
    "This notebook loads and displays the contents of the benchmarks pickle file."
   ]
  },
  {
   "cell_type": "code",
   "execution_count": 1,
   "metadata": {
    "execution": {
     "iopub.execute_input": "2025-02-26T05:00:27.361023Z",
     "iopub.status.busy": "2025-02-26T05:00:27.352287Z",
     "iopub.status.idle": "2025-02-26T05:00:29.046612Z",
     "shell.execute_reply": "2025-02-26T05:00:29.046612Z"
    }
   },
   "outputs": [],
   "source": [
    "import pickle\n",
    "import pandas as pd\n",
    "import sys\n",
    "from pathlib import Path\n",
    "\n",
    "# Add the project root to the Python path\n",
    "sys.path.append('.')\n",
    "from src.excel_processor import Benchmark"
   ]
  },
  {
   "cell_type": "markdown",
   "metadata": {},
   "source": [
    "## Load the pickle file"
   ]
  },
  {
   "cell_type": "code",
   "execution_count": 2,
   "metadata": {
    "execution": {
     "iopub.execute_input": "2025-02-26T05:00:29.055855Z",
     "iopub.status.busy": "2025-02-26T05:00:29.055855Z",
     "iopub.status.idle": "2025-02-26T05:00:29.086882Z",
     "shell.execute_reply": "2025-02-26T05:00:29.085016Z"
    }
   },
   "outputs": [
    {
     "name": "stdout",
     "output_type": "stream",
     "text": [
      "Looking for pickle file at: c:\\Users\\josh\\OneDrive\\Documents\\Projects\\fl-doe-standards\\data\\processed\\benchmarks.pkl\n",
      "Total benchmarks: 642\n"
     ]
    }
   ],
   "source": [
    "# Load the benchmarks from the pickle file\n",
    "# Use absolute path to ensure the file can be found\n",
    "current_dir = Path.cwd()\n",
    "pickle_path = current_dir / \"data\" / \"processed\" / \"benchmarks.pkl\"\n",
    "\n",
    "print(f\"Looking for pickle file at: {pickle_path}\")\n",
    "\n",
    "if pickle_path.exists():\n",
    "    with open(pickle_path, 'rb') as f:\n",
    "        benchmarks = pickle.load(f)\n",
    "    print(f\"Total benchmarks: {len(benchmarks)}\")\n",
    "else:\n",
    "    print(f\"Pickle file not found at {pickle_path}\")\n",
    "    # Try alternative paths\n",
    "    alt_path = Path(\"data/processed/benchmarks.pkl\")\n",
    "    if alt_path.exists():\n",
    "        with open(alt_path, 'rb') as f:\n",
    "            benchmarks = pickle.load(f)\n",
    "        print(f\"Loaded from alternative path. Total benchmarks: {len(benchmarks)}\")"
   ]
  },
  {
   "cell_type": "markdown",
   "metadata": {},
   "source": [
    "## View sample benchmarks"
   ]
  },
  {
   "cell_type": "code",
   "execution_count": 3,
   "metadata": {
    "execution": {
     "iopub.execute_input": "2025-02-26T05:00:29.204447Z",
     "iopub.status.busy": "2025-02-26T05:00:29.204447Z",
     "iopub.status.idle": "2025-02-26T05:00:29.223516Z",
     "shell.execute_reply": "2025-02-26T05:00:29.220609Z"
    }
   },
   "outputs": [
    {
     "name": "stdout",
     "output_type": "stream",
     "text": [
      "\n",
      "1. Benchmark ID: MA.K12.MTR.1.1\n",
      "   Grade Level: K12\n",
      "   Subject: Mathematics\n",
      "   Definition: Actively participate in effortful learning both individually and collectively. Mathematicians who pa...\n",
      "   CPALMS URL: https://www.cpalms.org/PreviewStandard/Preview/15875\n",
      "\n",
      "2. Benchmark ID: MA.K12.MTR.2.1\n",
      "   Grade Level: K12\n",
      "   Subject: Mathematics\n",
      "   Definition: Demonstrate understanding by representing problems in multiple ways. Mathematicians who demonstrate ...\n",
      "   CPALMS URL: https://www.cpalms.org/PreviewStandard/Preview/15875\n",
      "\n",
      "3. Benchmark ID: MA.K12.MTR.3.1\n",
      "   Grade Level: K12\n",
      "   Subject: Mathematics\n",
      "   Definition: Complete tasks with mathematical fluency. Mathematicians who complete tasks with mathematical fluenc...\n",
      "   CPALMS URL: https://www.cpalms.org/PreviewStandard/Preview/15876\n",
      "\n",
      "4. Benchmark ID: MA.K12.MTR.4.1\n",
      "   Grade Level: K12\n",
      "   Subject: Mathematics\n",
      "   Definition: Engage in discussions that reflect on the mathematical thinking of self and others. Mathematicians w...\n",
      "   CPALMS URL: https://www.cpalms.org/PreviewStandard/Preview/15877\n",
      "\n",
      "5. Benchmark ID: MA.K12.MTR.5.1\n",
      "   Grade Level: K12\n",
      "   Subject: Mathematics\n",
      "   Definition: Use patterns and structure to help understand and connect mathematical concepts. Mathematicians who ...\n",
      "   CPALMS URL: https://www.cpalms.org/PreviewStandard/Preview/15878\n"
     ]
    }
   ],
   "source": [
    "# Display the first 5 benchmarks\n",
    "for i, (key, value) in enumerate(list(benchmarks.items())[:5]):\n",
    "    print(f\"\\n{i+1}. Benchmark ID: {key}\")\n",
    "    print(f\"   Grade Level: {value.grade_level}\")\n",
    "    print(f\"   Subject: {value.subject}\")\n",
    "    print(f\"   Definition: {value.definition[:100]}...\" if len(value.definition) > 100 else f\"   Definition: {value.definition}\")\n",
    "    print(f\"   CPALMS URL: {value.cpalms_url if hasattr(value, 'cpalms_url') else 'Not available'}\")"
   ]
  },
  {
   "cell_type": "markdown",
   "metadata": {},
   "source": [
    "## Check CPALMS URLs"
   ]
  },
  {
   "cell_type": "code",
   "execution_count": 4,
   "metadata": {
    "execution": {
     "iopub.execute_input": "2025-02-26T05:00:29.232422Z",
     "iopub.status.busy": "2025-02-26T05:00:29.224020Z",
     "iopub.status.idle": "2025-02-26T05:00:29.245664Z",
     "shell.execute_reply": "2025-02-26T05:00:29.245664Z"
    }
   },
   "outputs": [
    {
     "name": "stdout",
     "output_type": "stream",
     "text": [
      "Benchmarks with CPALMS URLs: 642 out of 642 (100.00%)\n",
      "\n",
      "Sample benchmarks with CPALMS URLs:\n",
      "\n",
      "Benchmark ID: MA.K12.MTR.1.1\n",
      "CPALMS URL: https://www.cpalms.org/PreviewStandard/Preview/15875\n",
      "\n",
      "Benchmark ID: MA.K12.MTR.2.1\n",
      "CPALMS URL: https://www.cpalms.org/PreviewStandard/Preview/15875\n",
      "\n",
      "Benchmark ID: MA.K12.MTR.3.1\n",
      "CPALMS URL: https://www.cpalms.org/PreviewStandard/Preview/15876\n",
      "\n",
      "Benchmark ID: MA.K12.MTR.4.1\n",
      "CPALMS URL: https://www.cpalms.org/PreviewStandard/Preview/15877\n",
      "\n",
      "Benchmark ID: MA.K12.MTR.5.1\n",
      "CPALMS URL: https://www.cpalms.org/PreviewStandard/Preview/15878\n"
     ]
    }
   ],
   "source": [
    "# Check how many benchmarks have CPALMS URLs\n",
    "benchmarks_with_urls = sum(1 for b in benchmarks.values() if hasattr(b, 'cpalms_url') and b.cpalms_url)\n",
    "print(f\"Benchmarks with CPALMS URLs: {benchmarks_with_urls} out of {len(benchmarks)} ({benchmarks_with_urls/len(benchmarks)*100:.2f}%)\")\n",
    "\n",
    "# Display a few benchmarks with URLs\n",
    "print(\"\\nSample benchmarks with CPALMS URLs:\")\n",
    "count = 0\n",
    "for key, value in benchmarks.items():\n",
    "    if hasattr(value, 'cpalms_url') and value.cpalms_url:\n",
    "        print(f\"\\nBenchmark ID: {key}\")\n",
    "        print(f\"CPALMS URL: {value.cpalms_url}\")\n",
    "        count += 1\n",
    "        if count >= 5:\n",
    "            break\n",
    "\n",
    "if count == 0:\n",
    "    print(\"No benchmarks with CPALMS URLs found.\")"
   ]
  },
  {
   "cell_type": "markdown",
   "metadata": {},
   "source": [
    "## Convert to DataFrame for easier viewing"
   ]
  },
  {
   "cell_type": "code",
   "execution_count": 5,
   "metadata": {
    "execution": {
     "iopub.execute_input": "2025-02-26T05:00:29.257663Z",
     "iopub.status.busy": "2025-02-26T05:00:29.255465Z",
     "iopub.status.idle": "2025-02-26T05:00:29.311791Z",
     "shell.execute_reply": "2025-02-26T05:00:29.311791Z"
    }
   },
   "outputs": [
    {
     "data": {
      "application/vnd.microsoft.datawrangler.viewer.v0+json": {
       "columns": [
        {
         "name": "index",
         "rawType": "int64",
         "type": "integer"
        },
        {
         "name": "ID",
         "rawType": "object",
         "type": "string"
        },
        {
         "name": "Grade Level",
         "rawType": "object",
         "type": "string"
        },
        {
         "name": "Subject",
         "rawType": "object",
         "type": "string"
        },
        {
         "name": "Definition",
         "rawType": "object",
         "type": "string"
        },
        {
         "name": "CPALMS URL",
         "rawType": "object",
         "type": "string"
        }
       ],
       "conversionMethod": "pd.DataFrame",
       "ref": "018fdc21-6aae-4111-a579-1756cf9cc3a0",
       "rows": [
        [
         "0",
         "MA.K12.MTR.1.1",
         "K12",
         "Mathematics",
         "Actively participate in effortful learning both individually and collectively. Mathematicians who participate in effortful learning both individually and with others: Analyze the problem in a way that makes sense given the task. Ask questions that will help with solving the task. Build perseverance by modifying methods as needed while solving a challenging task. Stay engaged and maintain a positive mindset when working to solve tasks. Help and support each other when attempting a new method or approach.",
         "https://www.cpalms.org/PreviewStandard/Preview/15875"
        ],
        [
         "1",
         "MA.K12.MTR.2.1",
         "K12",
         "Mathematics",
         "Demonstrate understanding by representing problems in multiple ways. Mathematicians who demonstrate understanding by representing problems in multiple ways: Build understanding through modeling and using manipulatives. Represent solutions to problems in multiple ways using objects, drawings, tables, graphs and equations. Progress from modeling problems with objects and drawings to using algorithms and equations. Express connections between concepts and representations. Choose a representation based on the given context or purpose.",
         "https://www.cpalms.org/PreviewStandard/Preview/15875"
        ],
        [
         "2",
         "MA.K12.MTR.3.1",
         "K12",
         "Mathematics",
         "Complete tasks with mathematical fluency. Mathematicians who complete tasks with mathematical fluency: Select efficient and appropriate methods for solving problems within the given context. Maintain flexibility and accuracy while performing procedures and mental calculations. Complete tasks accurately and with confidence. Adapt procedures to apply them to a new context. Use feedback to improve efficiency when performing calculations.",
         "https://www.cpalms.org/PreviewStandard/Preview/15876"
        ],
        [
         "3",
         "MA.K12.MTR.4.1",
         "K12",
         "Mathematics",
         "Engage in discussions that reflect on the mathematical thinking of self and others. Mathematicians who engage in discussions that reflect on the mathematical thinking of self and others: Communicate mathematical ideas, vocabulary and methods effectively. Analyze the mathematical thinking of others. Compare the efficiency of a method to those expressed by others. Recognize errors and suggest how to correctly solve the task. Justify results by explaining methods and processes. Construct possible arguments based on evidence.",
         "https://www.cpalms.org/PreviewStandard/Preview/15877"
        ],
        [
         "4",
         "MA.K12.MTR.5.1",
         "K12",
         "Mathematics",
         "Use patterns and structure to help understand and connect mathematical concepts. Mathematicians who use patterns and structure to help understand and connect mathematical concepts: Focus on relevant details within a problem. Create plans and procedures to logically order events, steps or ideas to solve problems. Decompose a complex problem into manageable parts. Relate previously learned concepts to new concepts. Look for similarities among problems. Connect solutions of problems to more complicated large-scale situations.",
         "https://www.cpalms.org/PreviewStandard/Preview/15878"
        ]
       ],
       "shape": {
        "columns": 5,
        "rows": 5
       }
      },
      "text/html": [
       "<div>\n",
       "<style scoped>\n",
       "    .dataframe tbody tr th:only-of-type {\n",
       "        vertical-align: middle;\n",
       "    }\n",
       "\n",
       "    .dataframe tbody tr th {\n",
       "        vertical-align: top;\n",
       "    }\n",
       "\n",
       "    .dataframe thead th {\n",
       "        text-align: right;\n",
       "    }\n",
       "</style>\n",
       "<table border=\"1\" class=\"dataframe\">\n",
       "  <thead>\n",
       "    <tr style=\"text-align: right;\">\n",
       "      <th></th>\n",
       "      <th>ID</th>\n",
       "      <th>Grade Level</th>\n",
       "      <th>Subject</th>\n",
       "      <th>Definition</th>\n",
       "      <th>CPALMS URL</th>\n",
       "    </tr>\n",
       "  </thead>\n",
       "  <tbody>\n",
       "    <tr>\n",
       "      <th>0</th>\n",
       "      <td>MA.K12.MTR.1.1</td>\n",
       "      <td>K12</td>\n",
       "      <td>Mathematics</td>\n",
       "      <td>Actively participate in effortful learning bot...</td>\n",
       "      <td>https://www.cpalms.org/PreviewStandard/Preview...</td>\n",
       "    </tr>\n",
       "    <tr>\n",
       "      <th>1</th>\n",
       "      <td>MA.K12.MTR.2.1</td>\n",
       "      <td>K12</td>\n",
       "      <td>Mathematics</td>\n",
       "      <td>Demonstrate understanding by representing prob...</td>\n",
       "      <td>https://www.cpalms.org/PreviewStandard/Preview...</td>\n",
       "    </tr>\n",
       "    <tr>\n",
       "      <th>2</th>\n",
       "      <td>MA.K12.MTR.3.1</td>\n",
       "      <td>K12</td>\n",
       "      <td>Mathematics</td>\n",
       "      <td>Complete tasks with mathematical fluency. Math...</td>\n",
       "      <td>https://www.cpalms.org/PreviewStandard/Preview...</td>\n",
       "    </tr>\n",
       "    <tr>\n",
       "      <th>3</th>\n",
       "      <td>MA.K12.MTR.4.1</td>\n",
       "      <td>K12</td>\n",
       "      <td>Mathematics</td>\n",
       "      <td>Engage in discussions that reflect on the math...</td>\n",
       "      <td>https://www.cpalms.org/PreviewStandard/Preview...</td>\n",
       "    </tr>\n",
       "    <tr>\n",
       "      <th>4</th>\n",
       "      <td>MA.K12.MTR.5.1</td>\n",
       "      <td>K12</td>\n",
       "      <td>Mathematics</td>\n",
       "      <td>Use patterns and structure to help understand ...</td>\n",
       "      <td>https://www.cpalms.org/PreviewStandard/Preview...</td>\n",
       "    </tr>\n",
       "  </tbody>\n",
       "</table>\n",
       "</div>"
      ],
      "text/plain": [
       "               ID Grade Level      Subject  \\\n",
       "0  MA.K12.MTR.1.1         K12  Mathematics   \n",
       "1  MA.K12.MTR.2.1         K12  Mathematics   \n",
       "2  MA.K12.MTR.3.1         K12  Mathematics   \n",
       "3  MA.K12.MTR.4.1         K12  Mathematics   \n",
       "4  MA.K12.MTR.5.1         K12  Mathematics   \n",
       "\n",
       "                                          Definition  \\\n",
       "0  Actively participate in effortful learning bot...   \n",
       "1  Demonstrate understanding by representing prob...   \n",
       "2  Complete tasks with mathematical fluency. Math...   \n",
       "3  Engage in discussions that reflect on the math...   \n",
       "4  Use patterns and structure to help understand ...   \n",
       "\n",
       "                                          CPALMS URL  \n",
       "0  https://www.cpalms.org/PreviewStandard/Preview...  \n",
       "1  https://www.cpalms.org/PreviewStandard/Preview...  \n",
       "2  https://www.cpalms.org/PreviewStandard/Preview...  \n",
       "3  https://www.cpalms.org/PreviewStandard/Preview...  \n",
       "4  https://www.cpalms.org/PreviewStandard/Preview...  "
      ]
     },
     "execution_count": 5,
     "metadata": {},
     "output_type": "execute_result"
    }
   ],
   "source": [
    "# Convert the benchmarks to a DataFrame\n",
    "data = []\n",
    "for key, value in benchmarks.items():\n",
    "    data.append({\n",
    "        \"ID\": key,\n",
    "        \"Grade Level\": value.grade_level,\n",
    "        \"Subject\": value.subject,\n",
    "        \"Definition\": value.definition,\n",
    "        \"CPALMS URL\": getattr(value, 'cpalms_url', '')\n",
    "    })\n",
    "    \n",
    "df = pd.DataFrame(data)\n",
    "\n",
    "# Display the DataFrame\n",
    "df.head()"
   ]
  },
  {
   "cell_type": "markdown",
   "metadata": {},
   "source": [
    "## Filter benchmarks with CPALMS URLs"
   ]
  },
  {
   "cell_type": "code",
   "execution_count": 6,
   "metadata": {
    "execution": {
     "iopub.execute_input": "2025-02-26T05:00:29.321654Z",
     "iopub.status.busy": "2025-02-26T05:00:29.321153Z",
     "iopub.status.idle": "2025-02-26T05:00:29.346598Z",
     "shell.execute_reply": "2025-02-26T05:00:29.346098Z"
    }
   },
   "outputs": [
    {
     "name": "stdout",
     "output_type": "stream",
     "text": [
      "Found 642 benchmarks with CPALMS URLs\n"
     ]
    },
    {
     "data": {
      "application/vnd.microsoft.datawrangler.viewer.v0+json": {
       "columns": [
        {
         "name": "index",
         "rawType": "int64",
         "type": "integer"
        },
        {
         "name": "ID",
         "rawType": "object",
         "type": "string"
        },
        {
         "name": "Grade Level",
         "rawType": "object",
         "type": "string"
        },
        {
         "name": "Subject",
         "rawType": "object",
         "type": "string"
        },
        {
         "name": "Definition",
         "rawType": "object",
         "type": "string"
        },
        {
         "name": "CPALMS URL",
         "rawType": "object",
         "type": "string"
        }
       ],
       "conversionMethod": "pd.DataFrame",
       "ref": "b56561bf-cb3b-493f-b6b7-b119704ed7f7",
       "rows": [
        [
         "0",
         "MA.K12.MTR.1.1",
         "K12",
         "Mathematics",
         "Actively participate in effortful learning both individually and collectively. Mathematicians who participate in effortful learning both individually and with others: Analyze the problem in a way that makes sense given the task. Ask questions that will help with solving the task. Build perseverance by modifying methods as needed while solving a challenging task. Stay engaged and maintain a positive mindset when working to solve tasks. Help and support each other when attempting a new method or approach.",
         "https://www.cpalms.org/PreviewStandard/Preview/15875"
        ],
        [
         "1",
         "MA.K12.MTR.2.1",
         "K12",
         "Mathematics",
         "Demonstrate understanding by representing problems in multiple ways. Mathematicians who demonstrate understanding by representing problems in multiple ways: Build understanding through modeling and using manipulatives. Represent solutions to problems in multiple ways using objects, drawings, tables, graphs and equations. Progress from modeling problems with objects and drawings to using algorithms and equations. Express connections between concepts and representations. Choose a representation based on the given context or purpose.",
         "https://www.cpalms.org/PreviewStandard/Preview/15875"
        ],
        [
         "2",
         "MA.K12.MTR.3.1",
         "K12",
         "Mathematics",
         "Complete tasks with mathematical fluency. Mathematicians who complete tasks with mathematical fluency: Select efficient and appropriate methods for solving problems within the given context. Maintain flexibility and accuracy while performing procedures and mental calculations. Complete tasks accurately and with confidence. Adapt procedures to apply them to a new context. Use feedback to improve efficiency when performing calculations.",
         "https://www.cpalms.org/PreviewStandard/Preview/15876"
        ],
        [
         "3",
         "MA.K12.MTR.4.1",
         "K12",
         "Mathematics",
         "Engage in discussions that reflect on the mathematical thinking of self and others. Mathematicians who engage in discussions that reflect on the mathematical thinking of self and others: Communicate mathematical ideas, vocabulary and methods effectively. Analyze the mathematical thinking of others. Compare the efficiency of a method to those expressed by others. Recognize errors and suggest how to correctly solve the task. Justify results by explaining methods and processes. Construct possible arguments based on evidence.",
         "https://www.cpalms.org/PreviewStandard/Preview/15877"
        ],
        [
         "4",
         "MA.K12.MTR.5.1",
         "K12",
         "Mathematics",
         "Use patterns and structure to help understand and connect mathematical concepts. Mathematicians who use patterns and structure to help understand and connect mathematical concepts: Focus on relevant details within a problem. Create plans and procedures to logically order events, steps or ideas to solve problems. Decompose a complex problem into manageable parts. Relate previously learned concepts to new concepts. Look for similarities among problems. Connect solutions of problems to more complicated large-scale situations.",
         "https://www.cpalms.org/PreviewStandard/Preview/15878"
        ]
       ],
       "shape": {
        "columns": 5,
        "rows": 5
       }
      },
      "text/html": [
       "<div>\n",
       "<style scoped>\n",
       "    .dataframe tbody tr th:only-of-type {\n",
       "        vertical-align: middle;\n",
       "    }\n",
       "\n",
       "    .dataframe tbody tr th {\n",
       "        vertical-align: top;\n",
       "    }\n",
       "\n",
       "    .dataframe thead th {\n",
       "        text-align: right;\n",
       "    }\n",
       "</style>\n",
       "<table border=\"1\" class=\"dataframe\">\n",
       "  <thead>\n",
       "    <tr style=\"text-align: right;\">\n",
       "      <th></th>\n",
       "      <th>ID</th>\n",
       "      <th>Grade Level</th>\n",
       "      <th>Subject</th>\n",
       "      <th>Definition</th>\n",
       "      <th>CPALMS URL</th>\n",
       "    </tr>\n",
       "  </thead>\n",
       "  <tbody>\n",
       "    <tr>\n",
       "      <th>0</th>\n",
       "      <td>MA.K12.MTR.1.1</td>\n",
       "      <td>K12</td>\n",
       "      <td>Mathematics</td>\n",
       "      <td>Actively participate in effortful learning bot...</td>\n",
       "      <td>https://www.cpalms.org/PreviewStandard/Preview...</td>\n",
       "    </tr>\n",
       "    <tr>\n",
       "      <th>1</th>\n",
       "      <td>MA.K12.MTR.2.1</td>\n",
       "      <td>K12</td>\n",
       "      <td>Mathematics</td>\n",
       "      <td>Demonstrate understanding by representing prob...</td>\n",
       "      <td>https://www.cpalms.org/PreviewStandard/Preview...</td>\n",
       "    </tr>\n",
       "    <tr>\n",
       "      <th>2</th>\n",
       "      <td>MA.K12.MTR.3.1</td>\n",
       "      <td>K12</td>\n",
       "      <td>Mathematics</td>\n",
       "      <td>Complete tasks with mathematical fluency. Math...</td>\n",
       "      <td>https://www.cpalms.org/PreviewStandard/Preview...</td>\n",
       "    </tr>\n",
       "    <tr>\n",
       "      <th>3</th>\n",
       "      <td>MA.K12.MTR.4.1</td>\n",
       "      <td>K12</td>\n",
       "      <td>Mathematics</td>\n",
       "      <td>Engage in discussions that reflect on the math...</td>\n",
       "      <td>https://www.cpalms.org/PreviewStandard/Preview...</td>\n",
       "    </tr>\n",
       "    <tr>\n",
       "      <th>4</th>\n",
       "      <td>MA.K12.MTR.5.1</td>\n",
       "      <td>K12</td>\n",
       "      <td>Mathematics</td>\n",
       "      <td>Use patterns and structure to help understand ...</td>\n",
       "      <td>https://www.cpalms.org/PreviewStandard/Preview...</td>\n",
       "    </tr>\n",
       "  </tbody>\n",
       "</table>\n",
       "</div>"
      ],
      "text/plain": [
       "               ID Grade Level      Subject  \\\n",
       "0  MA.K12.MTR.1.1         K12  Mathematics   \n",
       "1  MA.K12.MTR.2.1         K12  Mathematics   \n",
       "2  MA.K12.MTR.3.1         K12  Mathematics   \n",
       "3  MA.K12.MTR.4.1         K12  Mathematics   \n",
       "4  MA.K12.MTR.5.1         K12  Mathematics   \n",
       "\n",
       "                                          Definition  \\\n",
       "0  Actively participate in effortful learning bot...   \n",
       "1  Demonstrate understanding by representing prob...   \n",
       "2  Complete tasks with mathematical fluency. Math...   \n",
       "3  Engage in discussions that reflect on the math...   \n",
       "4  Use patterns and structure to help understand ...   \n",
       "\n",
       "                                          CPALMS URL  \n",
       "0  https://www.cpalms.org/PreviewStandard/Preview...  \n",
       "1  https://www.cpalms.org/PreviewStandard/Preview...  \n",
       "2  https://www.cpalms.org/PreviewStandard/Preview...  \n",
       "3  https://www.cpalms.org/PreviewStandard/Preview...  \n",
       "4  https://www.cpalms.org/PreviewStandard/Preview...  "
      ]
     },
     "execution_count": 6,
     "metadata": {},
     "output_type": "execute_result"
    }
   ],
   "source": [
    "# Filter benchmarks that have CPALMS URLs\n",
    "df_with_urls = df[df[\"CPALMS URL\"] != \"\"]\n",
    "print(f\"Found {len(df_with_urls)} benchmarks with CPALMS URLs\")\n",
    "df_with_urls.head()"
   ]
  },
  {
   "cell_type": "markdown",
   "metadata": {},
   "source": [
    "## Filter benchmarks without CPALMS URLs"
   ]
  },
  {
   "cell_type": "code",
   "execution_count": 7,
   "metadata": {},
   "outputs": [
    {
     "name": "stdout",
     "output_type": "stream",
     "text": [
      "Found 642 benchmarks without CPALMS URLs\n"
     ]
    },
    {
     "data": {
      "application/vnd.microsoft.datawrangler.viewer.v0+json": {
       "columns": [
        {
         "name": "index",
         "rawType": "int64",
         "type": "integer"
        },
        {
         "name": "ID",
         "rawType": "object",
         "type": "string"
        },
        {
         "name": "Grade Level",
         "rawType": "object",
         "type": "string"
        },
        {
         "name": "Subject",
         "rawType": "object",
         "type": "string"
        },
        {
         "name": "Definition",
         "rawType": "object",
         "type": "string"
        },
        {
         "name": "CPALMS URL",
         "rawType": "object",
         "type": "string"
        }
       ],
       "conversionMethod": "pd.DataFrame",
       "ref": "5661eb5e-f438-4543-8b3a-799055bc3e88",
       "rows": [],
       "shape": {
        "columns": 5,
        "rows": 0
       }
      },
      "text/html": [
       "<div>\n",
       "<style scoped>\n",
       "    .dataframe tbody tr th:only-of-type {\n",
       "        vertical-align: middle;\n",
       "    }\n",
       "\n",
       "    .dataframe tbody tr th {\n",
       "        vertical-align: top;\n",
       "    }\n",
       "\n",
       "    .dataframe thead th {\n",
       "        text-align: right;\n",
       "    }\n",
       "</style>\n",
       "<table border=\"1\" class=\"dataframe\">\n",
       "  <thead>\n",
       "    <tr style=\"text-align: right;\">\n",
       "      <th></th>\n",
       "      <th>ID</th>\n",
       "      <th>Grade Level</th>\n",
       "      <th>Subject</th>\n",
       "      <th>Definition</th>\n",
       "      <th>CPALMS URL</th>\n",
       "    </tr>\n",
       "  </thead>\n",
       "  <tbody>\n",
       "  </tbody>\n",
       "</table>\n",
       "</div>"
      ],
      "text/plain": [
       "Empty DataFrame\n",
       "Columns: [ID, Grade Level, Subject, Definition, CPALMS URL]\n",
       "Index: []"
      ]
     },
     "execution_count": 7,
     "metadata": {},
     "output_type": "execute_result"
    }
   ],
   "source": [
    "# Filter benchmarks that have CPALMS URLs\n",
    "df_without_urls = df[df[\"CPALMS URL\"] == \"\"]\n",
    "print(f\"Found {len(df_with_urls)} benchmarks without CPALMS URLs\")\n",
    "df_without_urls"
   ]
  },
  {
   "cell_type": "code",
   "execution_count": 8,
   "metadata": {},
   "outputs": [
    {
     "name": "stdout",
     "output_type": "stream",
     "text": [
      "[]\n"
     ]
    }
   ],
   "source": [
    "print(list(df_without_urls['ID']))"
   ]
  },
  {
   "cell_type": "code",
   "execution_count": 9,
   "metadata": {},
   "outputs": [
    {
     "name": "stdout",
     "output_type": "stream",
     "text": [
      "Found 642 benchmarks with CPALMS URLs\n"
     ]
    },
    {
     "data": {
      "application/vnd.microsoft.datawrangler.viewer.v0+json": {
       "columns": [
        {
         "name": "index",
         "rawType": "int64",
         "type": "integer"
        },
        {
         "name": "ID",
         "rawType": "object",
         "type": "string"
        },
        {
         "name": "Grade Level",
         "rawType": "object",
         "type": "string"
        },
        {
         "name": "Subject",
         "rawType": "object",
         "type": "string"
        },
        {
         "name": "Definition",
         "rawType": "object",
         "type": "string"
        },
        {
         "name": "CPALMS URL",
         "rawType": "object",
         "type": "string"
        }
       ],
       "conversionMethod": "pd.DataFrame",
       "ref": "934a531e-2d42-412f-9171-4e9d495fed3a",
       "rows": [
        [
         "0",
         "MA.K12.MTR.1.1",
         "K12",
         "Mathematics",
         "Actively participate in effortful learning both individually and collectively. Mathematicians who participate in effortful learning both individually and with others: Analyze the problem in a way that makes sense given the task. Ask questions that will help with solving the task. Build perseverance by modifying methods as needed while solving a challenging task. Stay engaged and maintain a positive mindset when working to solve tasks. Help and support each other when attempting a new method or approach.",
         "https://www.cpalms.org/PreviewStandard/Preview/15875"
        ],
        [
         "1",
         "MA.K12.MTR.2.1",
         "K12",
         "Mathematics",
         "Demonstrate understanding by representing problems in multiple ways. Mathematicians who demonstrate understanding by representing problems in multiple ways: Build understanding through modeling and using manipulatives. Represent solutions to problems in multiple ways using objects, drawings, tables, graphs and equations. Progress from modeling problems with objects and drawings to using algorithms and equations. Express connections between concepts and representations. Choose a representation based on the given context or purpose.",
         "https://www.cpalms.org/PreviewStandard/Preview/15875"
        ],
        [
         "2",
         "MA.K12.MTR.3.1",
         "K12",
         "Mathematics",
         "Complete tasks with mathematical fluency. Mathematicians who complete tasks with mathematical fluency: Select efficient and appropriate methods for solving problems within the given context. Maintain flexibility and accuracy while performing procedures and mental calculations. Complete tasks accurately and with confidence. Adapt procedures to apply them to a new context. Use feedback to improve efficiency when performing calculations.",
         "https://www.cpalms.org/PreviewStandard/Preview/15876"
        ],
        [
         "3",
         "MA.K12.MTR.4.1",
         "K12",
         "Mathematics",
         "Engage in discussions that reflect on the mathematical thinking of self and others. Mathematicians who engage in discussions that reflect on the mathematical thinking of self and others: Communicate mathematical ideas, vocabulary and methods effectively. Analyze the mathematical thinking of others. Compare the efficiency of a method to those expressed by others. Recognize errors and suggest how to correctly solve the task. Justify results by explaining methods and processes. Construct possible arguments based on evidence.",
         "https://www.cpalms.org/PreviewStandard/Preview/15877"
        ],
        [
         "4",
         "MA.K12.MTR.5.1",
         "K12",
         "Mathematics",
         "Use patterns and structure to help understand and connect mathematical concepts. Mathematicians who use patterns and structure to help understand and connect mathematical concepts: Focus on relevant details within a problem. Create plans and procedures to logically order events, steps or ideas to solve problems. Decompose a complex problem into manageable parts. Relate previously learned concepts to new concepts. Look for similarities among problems. Connect solutions of problems to more complicated large-scale situations.",
         "https://www.cpalms.org/PreviewStandard/Preview/15878"
        ]
       ],
       "shape": {
        "columns": 5,
        "rows": 5
       }
      },
      "text/html": [
       "<div>\n",
       "<style scoped>\n",
       "    .dataframe tbody tr th:only-of-type {\n",
       "        vertical-align: middle;\n",
       "    }\n",
       "\n",
       "    .dataframe tbody tr th {\n",
       "        vertical-align: top;\n",
       "    }\n",
       "\n",
       "    .dataframe thead th {\n",
       "        text-align: right;\n",
       "    }\n",
       "</style>\n",
       "<table border=\"1\" class=\"dataframe\">\n",
       "  <thead>\n",
       "    <tr style=\"text-align: right;\">\n",
       "      <th></th>\n",
       "      <th>ID</th>\n",
       "      <th>Grade Level</th>\n",
       "      <th>Subject</th>\n",
       "      <th>Definition</th>\n",
       "      <th>CPALMS URL</th>\n",
       "    </tr>\n",
       "  </thead>\n",
       "  <tbody>\n",
       "    <tr>\n",
       "      <th>0</th>\n",
       "      <td>MA.K12.MTR.1.1</td>\n",
       "      <td>K12</td>\n",
       "      <td>Mathematics</td>\n",
       "      <td>Actively participate in effortful learning bot...</td>\n",
       "      <td>https://www.cpalms.org/PreviewStandard/Preview...</td>\n",
       "    </tr>\n",
       "    <tr>\n",
       "      <th>1</th>\n",
       "      <td>MA.K12.MTR.2.1</td>\n",
       "      <td>K12</td>\n",
       "      <td>Mathematics</td>\n",
       "      <td>Demonstrate understanding by representing prob...</td>\n",
       "      <td>https://www.cpalms.org/PreviewStandard/Preview...</td>\n",
       "    </tr>\n",
       "    <tr>\n",
       "      <th>2</th>\n",
       "      <td>MA.K12.MTR.3.1</td>\n",
       "      <td>K12</td>\n",
       "      <td>Mathematics</td>\n",
       "      <td>Complete tasks with mathematical fluency. Math...</td>\n",
       "      <td>https://www.cpalms.org/PreviewStandard/Preview...</td>\n",
       "    </tr>\n",
       "    <tr>\n",
       "      <th>3</th>\n",
       "      <td>MA.K12.MTR.4.1</td>\n",
       "      <td>K12</td>\n",
       "      <td>Mathematics</td>\n",
       "      <td>Engage in discussions that reflect on the math...</td>\n",
       "      <td>https://www.cpalms.org/PreviewStandard/Preview...</td>\n",
       "    </tr>\n",
       "    <tr>\n",
       "      <th>4</th>\n",
       "      <td>MA.K12.MTR.5.1</td>\n",
       "      <td>K12</td>\n",
       "      <td>Mathematics</td>\n",
       "      <td>Use patterns and structure to help understand ...</td>\n",
       "      <td>https://www.cpalms.org/PreviewStandard/Preview...</td>\n",
       "    </tr>\n",
       "  </tbody>\n",
       "</table>\n",
       "</div>"
      ],
      "text/plain": [
       "               ID Grade Level      Subject  \\\n",
       "0  MA.K12.MTR.1.1         K12  Mathematics   \n",
       "1  MA.K12.MTR.2.1         K12  Mathematics   \n",
       "2  MA.K12.MTR.3.1         K12  Mathematics   \n",
       "3  MA.K12.MTR.4.1         K12  Mathematics   \n",
       "4  MA.K12.MTR.5.1         K12  Mathematics   \n",
       "\n",
       "                                          Definition  \\\n",
       "0  Actively participate in effortful learning bot...   \n",
       "1  Demonstrate understanding by representing prob...   \n",
       "2  Complete tasks with mathematical fluency. Math...   \n",
       "3  Engage in discussions that reflect on the math...   \n",
       "4  Use patterns and structure to help understand ...   \n",
       "\n",
       "                                          CPALMS URL  \n",
       "0  https://www.cpalms.org/PreviewStandard/Preview...  \n",
       "1  https://www.cpalms.org/PreviewStandard/Preview...  \n",
       "2  https://www.cpalms.org/PreviewStandard/Preview...  \n",
       "3  https://www.cpalms.org/PreviewStandard/Preview...  \n",
       "4  https://www.cpalms.org/PreviewStandard/Preview...  "
      ]
     },
     "execution_count": 9,
     "metadata": {},
     "output_type": "execute_result"
    }
   ],
   "source": [
    "# Filter benchmarks that have CPALMS URLs\n",
    "df_with_urls = df[df[\"CPALMS URL\"] != \"\"]\n",
    "print(f\"Found {len(df_with_urls)} benchmarks with CPALMS URLs\")\n",
    "df_with_urls.head()"
   ]
  },
  {
   "cell_type": "code",
   "execution_count": 10,
   "metadata": {},
   "outputs": [
    {
     "name": "stdout",
     "output_type": "stream",
     "text": [
      "Found 642 benchmarks with CPALMS URLs\n"
     ]
    },
    {
     "data": {
      "application/vnd.microsoft.datawrangler.viewer.v0+json": {
       "columns": [
        {
         "name": "index",
         "rawType": "int64",
         "type": "integer"
        },
        {
         "name": "ID",
         "rawType": "object",
         "type": "string"
        },
        {
         "name": "Grade Level",
         "rawType": "object",
         "type": "string"
        },
        {
         "name": "Subject",
         "rawType": "object",
         "type": "string"
        },
        {
         "name": "Definition",
         "rawType": "object",
         "type": "string"
        },
        {
         "name": "CPALMS URL",
         "rawType": "object",
         "type": "string"
        }
       ],
       "conversionMethod": "pd.DataFrame",
       "ref": "be410e83-307e-4284-a588-5b0ba44bd264",
       "rows": [
        [
         "0",
         "MA.K12.MTR.1.1",
         "K12",
         "Mathematics",
         "Actively participate in effortful learning both individually and collectively. Mathematicians who participate in effortful learning both individually and with others: Analyze the problem in a way that makes sense given the task. Ask questions that will help with solving the task. Build perseverance by modifying methods as needed while solving a challenging task. Stay engaged and maintain a positive mindset when working to solve tasks. Help and support each other when attempting a new method or approach.",
         "https://www.cpalms.org/PreviewStandard/Preview/15875"
        ],
        [
         "1",
         "MA.K12.MTR.2.1",
         "K12",
         "Mathematics",
         "Demonstrate understanding by representing problems in multiple ways. Mathematicians who demonstrate understanding by representing problems in multiple ways: Build understanding through modeling and using manipulatives. Represent solutions to problems in multiple ways using objects, drawings, tables, graphs and equations. Progress from modeling problems with objects and drawings to using algorithms and equations. Express connections between concepts and representations. Choose a representation based on the given context or purpose.",
         "https://www.cpalms.org/PreviewStandard/Preview/15875"
        ],
        [
         "2",
         "MA.K12.MTR.3.1",
         "K12",
         "Mathematics",
         "Complete tasks with mathematical fluency. Mathematicians who complete tasks with mathematical fluency: Select efficient and appropriate methods for solving problems within the given context. Maintain flexibility and accuracy while performing procedures and mental calculations. Complete tasks accurately and with confidence. Adapt procedures to apply them to a new context. Use feedback to improve efficiency when performing calculations.",
         "https://www.cpalms.org/PreviewStandard/Preview/15876"
        ],
        [
         "3",
         "MA.K12.MTR.4.1",
         "K12",
         "Mathematics",
         "Engage in discussions that reflect on the mathematical thinking of self and others. Mathematicians who engage in discussions that reflect on the mathematical thinking of self and others: Communicate mathematical ideas, vocabulary and methods effectively. Analyze the mathematical thinking of others. Compare the efficiency of a method to those expressed by others. Recognize errors and suggest how to correctly solve the task. Justify results by explaining methods and processes. Construct possible arguments based on evidence.",
         "https://www.cpalms.org/PreviewStandard/Preview/15877"
        ],
        [
         "4",
         "MA.K12.MTR.5.1",
         "K12",
         "Mathematics",
         "Use patterns and structure to help understand and connect mathematical concepts. Mathematicians who use patterns and structure to help understand and connect mathematical concepts: Focus on relevant details within a problem. Create plans and procedures to logically order events, steps or ideas to solve problems. Decompose a complex problem into manageable parts. Relate previously learned concepts to new concepts. Look for similarities among problems. Connect solutions of problems to more complicated large-scale situations.",
         "https://www.cpalms.org/PreviewStandard/Preview/15878"
        ]
       ],
       "shape": {
        "columns": 5,
        "rows": 5
       }
      },
      "text/html": [
       "<div>\n",
       "<style scoped>\n",
       "    .dataframe tbody tr th:only-of-type {\n",
       "        vertical-align: middle;\n",
       "    }\n",
       "\n",
       "    .dataframe tbody tr th {\n",
       "        vertical-align: top;\n",
       "    }\n",
       "\n",
       "    .dataframe thead th {\n",
       "        text-align: right;\n",
       "    }\n",
       "</style>\n",
       "<table border=\"1\" class=\"dataframe\">\n",
       "  <thead>\n",
       "    <tr style=\"text-align: right;\">\n",
       "      <th></th>\n",
       "      <th>ID</th>\n",
       "      <th>Grade Level</th>\n",
       "      <th>Subject</th>\n",
       "      <th>Definition</th>\n",
       "      <th>CPALMS URL</th>\n",
       "    </tr>\n",
       "  </thead>\n",
       "  <tbody>\n",
       "    <tr>\n",
       "      <th>0</th>\n",
       "      <td>MA.K12.MTR.1.1</td>\n",
       "      <td>K12</td>\n",
       "      <td>Mathematics</td>\n",
       "      <td>Actively participate in effortful learning bot...</td>\n",
       "      <td>https://www.cpalms.org/PreviewStandard/Preview...</td>\n",
       "    </tr>\n",
       "    <tr>\n",
       "      <th>1</th>\n",
       "      <td>MA.K12.MTR.2.1</td>\n",
       "      <td>K12</td>\n",
       "      <td>Mathematics</td>\n",
       "      <td>Demonstrate understanding by representing prob...</td>\n",
       "      <td>https://www.cpalms.org/PreviewStandard/Preview...</td>\n",
       "    </tr>\n",
       "    <tr>\n",
       "      <th>2</th>\n",
       "      <td>MA.K12.MTR.3.1</td>\n",
       "      <td>K12</td>\n",
       "      <td>Mathematics</td>\n",
       "      <td>Complete tasks with mathematical fluency. Math...</td>\n",
       "      <td>https://www.cpalms.org/PreviewStandard/Preview...</td>\n",
       "    </tr>\n",
       "    <tr>\n",
       "      <th>3</th>\n",
       "      <td>MA.K12.MTR.4.1</td>\n",
       "      <td>K12</td>\n",
       "      <td>Mathematics</td>\n",
       "      <td>Engage in discussions that reflect on the math...</td>\n",
       "      <td>https://www.cpalms.org/PreviewStandard/Preview...</td>\n",
       "    </tr>\n",
       "    <tr>\n",
       "      <th>4</th>\n",
       "      <td>MA.K12.MTR.5.1</td>\n",
       "      <td>K12</td>\n",
       "      <td>Mathematics</td>\n",
       "      <td>Use patterns and structure to help understand ...</td>\n",
       "      <td>https://www.cpalms.org/PreviewStandard/Preview...</td>\n",
       "    </tr>\n",
       "  </tbody>\n",
       "</table>\n",
       "</div>"
      ],
      "text/plain": [
       "               ID Grade Level      Subject  \\\n",
       "0  MA.K12.MTR.1.1         K12  Mathematics   \n",
       "1  MA.K12.MTR.2.1         K12  Mathematics   \n",
       "2  MA.K12.MTR.3.1         K12  Mathematics   \n",
       "3  MA.K12.MTR.4.1         K12  Mathematics   \n",
       "4  MA.K12.MTR.5.1         K12  Mathematics   \n",
       "\n",
       "                                          Definition  \\\n",
       "0  Actively participate in effortful learning bot...   \n",
       "1  Demonstrate understanding by representing prob...   \n",
       "2  Complete tasks with mathematical fluency. Math...   \n",
       "3  Engage in discussions that reflect on the math...   \n",
       "4  Use patterns and structure to help understand ...   \n",
       "\n",
       "                                          CPALMS URL  \n",
       "0  https://www.cpalms.org/PreviewStandard/Preview...  \n",
       "1  https://www.cpalms.org/PreviewStandard/Preview...  \n",
       "2  https://www.cpalms.org/PreviewStandard/Preview...  \n",
       "3  https://www.cpalms.org/PreviewStandard/Preview...  \n",
       "4  https://www.cpalms.org/PreviewStandard/Preview...  "
      ]
     },
     "execution_count": 10,
     "metadata": {},
     "output_type": "execute_result"
    }
   ],
   "source": [
    "# Filter benchmarks that have CPALMS URLs\n",
    "df_with_urls = df[df[\"CPALMS URL\"] != \"\"]\n",
    "print(f\"Found {len(df_with_urls)} benchmarks with CPALMS URLs\")\n",
    "df_with_urls.head()"
   ]
  },
  {
   "cell_type": "markdown",
   "metadata": {},
   "source": [
    "## Filter by Grade Level"
   ]
  },
  {
   "cell_type": "code",
   "execution_count": 11,
   "metadata": {
    "execution": {
     "iopub.execute_input": "2025-02-26T05:00:29.346598Z",
     "iopub.status.busy": "2025-02-26T05:00:29.346598Z",
     "iopub.status.idle": "2025-02-26T05:00:29.359790Z",
     "shell.execute_reply": "2025-02-26T05:00:29.359790Z"
    }
   },
   "outputs": [
    {
     "name": "stdout",
     "output_type": "stream",
     "text": [
      "Available grade levels:\n",
      "['K12' 'K' 1 2 3 4 5 6 7 8 912]\n"
     ]
    }
   ],
   "source": [
    "# Get unique grade levels\n",
    "grade_levels = df[\"Grade Level\"].unique()\n",
    "print(\"Available grade levels:\")\n",
    "print(grade_levels)"
   ]
  },
  {
   "cell_type": "code",
   "execution_count": 12,
   "metadata": {
    "execution": {
     "iopub.execute_input": "2025-02-26T05:00:29.359790Z",
     "iopub.status.busy": "2025-02-26T05:00:29.359790Z",
     "iopub.status.idle": "2025-02-26T05:00:29.383924Z",
     "shell.execute_reply": "2025-02-26T05:00:29.383924Z"
    }
   },
   "outputs": [
    {
     "name": "stdout",
     "output_type": "stream",
     "text": [
      "Found 22 benchmarks for grade K\n"
     ]
    },
    {
     "data": {
      "application/vnd.microsoft.datawrangler.viewer.v0+json": {
       "columns": [
        {
         "name": "index",
         "rawType": "int64",
         "type": "integer"
        },
        {
         "name": "ID",
         "rawType": "object",
         "type": "string"
        },
        {
         "name": "Grade Level",
         "rawType": "object",
         "type": "string"
        },
        {
         "name": "Subject",
         "rawType": "object",
         "type": "string"
        },
        {
         "name": "Definition",
         "rawType": "object",
         "type": "string"
        },
        {
         "name": "CPALMS URL",
         "rawType": "object",
         "type": "string"
        }
       ],
       "conversionMethod": "pd.DataFrame",
       "ref": "0d850b64-455f-48f2-be7f-fa51403fccdb",
       "rows": [
        [
         "7",
         "MA.K.AR.1.1",
         "K",
         "Mathematics",
         "For any number from 1 to 9, find the number that makes 10 when added to the given number.",
         "https://www.cpalms.org/PreviewStandard/Preview/15881"
        ],
        [
         "8",
         "MA.K.AR.1.2",
         "K",
         "Mathematics",
         "Given a number from 0 to 10, find the different ways it can be represented as the sum of two numbers.",
         "https://www.cpalms.org/PreviewStandard/Preview/15241"
        ],
        [
         "9",
         "MA.K.AR.1.3",
         "K",
         "Mathematics",
         "Solve addition and subtraction real-world problems using objects, drawings or equations to represent the problem.",
         "https://www.cpalms.org/PreviewStandard/Preview/15242"
        ],
        [
         "10",
         "MA.K.AR.2.1",
         "K",
         "Mathematics",
         "Explain why addition or subtraction equations are true using objects or drawings.",
         "https://www.cpalms.org/PreviewStandard/Preview/15243"
        ],
        [
         "11",
         "MA.K.DP.1.1",
         "K",
         "Mathematics",
         "Collect and sort objects into categories and compare the categories by counting the objects in each category. Report the results verbally, with a written numeral or with drawings.",
         "https://www.cpalms.org/PreviewStandard/Preview/15244"
        ]
       ],
       "shape": {
        "columns": 5,
        "rows": 5
       }
      },
      "text/html": [
       "<div>\n",
       "<style scoped>\n",
       "    .dataframe tbody tr th:only-of-type {\n",
       "        vertical-align: middle;\n",
       "    }\n",
       "\n",
       "    .dataframe tbody tr th {\n",
       "        vertical-align: top;\n",
       "    }\n",
       "\n",
       "    .dataframe thead th {\n",
       "        text-align: right;\n",
       "    }\n",
       "</style>\n",
       "<table border=\"1\" class=\"dataframe\">\n",
       "  <thead>\n",
       "    <tr style=\"text-align: right;\">\n",
       "      <th></th>\n",
       "      <th>ID</th>\n",
       "      <th>Grade Level</th>\n",
       "      <th>Subject</th>\n",
       "      <th>Definition</th>\n",
       "      <th>CPALMS URL</th>\n",
       "    </tr>\n",
       "  </thead>\n",
       "  <tbody>\n",
       "    <tr>\n",
       "      <th>7</th>\n",
       "      <td>MA.K.AR.1.1</td>\n",
       "      <td>K</td>\n",
       "      <td>Mathematics</td>\n",
       "      <td>For any number from 1 to 9, find the number th...</td>\n",
       "      <td>https://www.cpalms.org/PreviewStandard/Preview...</td>\n",
       "    </tr>\n",
       "    <tr>\n",
       "      <th>8</th>\n",
       "      <td>MA.K.AR.1.2</td>\n",
       "      <td>K</td>\n",
       "      <td>Mathematics</td>\n",
       "      <td>Given a number from 0 to 10, find the differen...</td>\n",
       "      <td>https://www.cpalms.org/PreviewStandard/Preview...</td>\n",
       "    </tr>\n",
       "    <tr>\n",
       "      <th>9</th>\n",
       "      <td>MA.K.AR.1.3</td>\n",
       "      <td>K</td>\n",
       "      <td>Mathematics</td>\n",
       "      <td>Solve addition and subtraction real-world prob...</td>\n",
       "      <td>https://www.cpalms.org/PreviewStandard/Preview...</td>\n",
       "    </tr>\n",
       "    <tr>\n",
       "      <th>10</th>\n",
       "      <td>MA.K.AR.2.1</td>\n",
       "      <td>K</td>\n",
       "      <td>Mathematics</td>\n",
       "      <td>Explain why addition or subtraction equations ...</td>\n",
       "      <td>https://www.cpalms.org/PreviewStandard/Preview...</td>\n",
       "    </tr>\n",
       "    <tr>\n",
       "      <th>11</th>\n",
       "      <td>MA.K.DP.1.1</td>\n",
       "      <td>K</td>\n",
       "      <td>Mathematics</td>\n",
       "      <td>Collect and sort objects into categories and c...</td>\n",
       "      <td>https://www.cpalms.org/PreviewStandard/Preview...</td>\n",
       "    </tr>\n",
       "  </tbody>\n",
       "</table>\n",
       "</div>"
      ],
      "text/plain": [
       "             ID Grade Level      Subject  \\\n",
       "7   MA.K.AR.1.1           K  Mathematics   \n",
       "8   MA.K.AR.1.2           K  Mathematics   \n",
       "9   MA.K.AR.1.3           K  Mathematics   \n",
       "10  MA.K.AR.2.1           K  Mathematics   \n",
       "11  MA.K.DP.1.1           K  Mathematics   \n",
       "\n",
       "                                           Definition  \\\n",
       "7   For any number from 1 to 9, find the number th...   \n",
       "8   Given a number from 0 to 10, find the differen...   \n",
       "9   Solve addition and subtraction real-world prob...   \n",
       "10  Explain why addition or subtraction equations ...   \n",
       "11  Collect and sort objects into categories and c...   \n",
       "\n",
       "                                           CPALMS URL  \n",
       "7   https://www.cpalms.org/PreviewStandard/Preview...  \n",
       "8   https://www.cpalms.org/PreviewStandard/Preview...  \n",
       "9   https://www.cpalms.org/PreviewStandard/Preview...  \n",
       "10  https://www.cpalms.org/PreviewStandard/Preview...  \n",
       "11  https://www.cpalms.org/PreviewStandard/Preview...  "
      ]
     },
     "execution_count": 12,
     "metadata": {},
     "output_type": "execute_result"
    }
   ],
   "source": [
    "# Filter by a specific grade level (change as needed)\n",
    "grade_to_filter = \"K\"  # Change this to filter by different grades\n",
    "\n",
    "filtered_df = df[df[\"Grade Level\"] == grade_to_filter]\n",
    "print(f\"Found {len(filtered_df)} benchmarks for grade {grade_to_filter}\")\n",
    "filtered_df.head()"
   ]
  },
  {
   "cell_type": "markdown",
   "metadata": {},
   "source": [
    "## Search by Benchmark ID"
   ]
  },
  {
   "cell_type": "code",
   "execution_count": 13,
   "metadata": {
    "execution": {
     "iopub.execute_input": "2025-02-26T05:00:29.387101Z",
     "iopub.status.busy": "2025-02-26T05:00:29.387101Z",
     "iopub.status.idle": "2025-02-26T05:00:29.414643Z",
     "shell.execute_reply": "2025-02-26T05:00:29.414643Z"
    }
   },
   "outputs": [
    {
     "name": "stdout",
     "output_type": "stream",
     "text": [
      "Found 29 benchmarks matching 'MA.K'\n"
     ]
    },
    {
     "data": {
      "application/vnd.microsoft.datawrangler.viewer.v0+json": {
       "columns": [
        {
         "name": "index",
         "rawType": "int64",
         "type": "integer"
        },
        {
         "name": "ID",
         "rawType": "object",
         "type": "string"
        },
        {
         "name": "Grade Level",
         "rawType": "object",
         "type": "string"
        },
        {
         "name": "Subject",
         "rawType": "object",
         "type": "string"
        },
        {
         "name": "Definition",
         "rawType": "object",
         "type": "string"
        },
        {
         "name": "CPALMS URL",
         "rawType": "object",
         "type": "string"
        }
       ],
       "conversionMethod": "pd.DataFrame",
       "ref": "14fb7a62-e686-4796-b200-a653b782f1ed",
       "rows": [
        [
         "0",
         "MA.K12.MTR.1.1",
         "K12",
         "Mathematics",
         "Actively participate in effortful learning both individually and collectively. Mathematicians who participate in effortful learning both individually and with others: Analyze the problem in a way that makes sense given the task. Ask questions that will help with solving the task. Build perseverance by modifying methods as needed while solving a challenging task. Stay engaged and maintain a positive mindset when working to solve tasks. Help and support each other when attempting a new method or approach.",
         "https://www.cpalms.org/PreviewStandard/Preview/15875"
        ],
        [
         "1",
         "MA.K12.MTR.2.1",
         "K12",
         "Mathematics",
         "Demonstrate understanding by representing problems in multiple ways. Mathematicians who demonstrate understanding by representing problems in multiple ways: Build understanding through modeling and using manipulatives. Represent solutions to problems in multiple ways using objects, drawings, tables, graphs and equations. Progress from modeling problems with objects and drawings to using algorithms and equations. Express connections between concepts and representations. Choose a representation based on the given context or purpose.",
         "https://www.cpalms.org/PreviewStandard/Preview/15875"
        ],
        [
         "2",
         "MA.K12.MTR.3.1",
         "K12",
         "Mathematics",
         "Complete tasks with mathematical fluency. Mathematicians who complete tasks with mathematical fluency: Select efficient and appropriate methods for solving problems within the given context. Maintain flexibility and accuracy while performing procedures and mental calculations. Complete tasks accurately and with confidence. Adapt procedures to apply them to a new context. Use feedback to improve efficiency when performing calculations.",
         "https://www.cpalms.org/PreviewStandard/Preview/15876"
        ],
        [
         "3",
         "MA.K12.MTR.4.1",
         "K12",
         "Mathematics",
         "Engage in discussions that reflect on the mathematical thinking of self and others. Mathematicians who engage in discussions that reflect on the mathematical thinking of self and others: Communicate mathematical ideas, vocabulary and methods effectively. Analyze the mathematical thinking of others. Compare the efficiency of a method to those expressed by others. Recognize errors and suggest how to correctly solve the task. Justify results by explaining methods and processes. Construct possible arguments based on evidence.",
         "https://www.cpalms.org/PreviewStandard/Preview/15877"
        ],
        [
         "4",
         "MA.K12.MTR.5.1",
         "K12",
         "Mathematics",
         "Use patterns and structure to help understand and connect mathematical concepts. Mathematicians who use patterns and structure to help understand and connect mathematical concepts: Focus on relevant details within a problem. Create plans and procedures to logically order events, steps or ideas to solve problems. Decompose a complex problem into manageable parts. Relate previously learned concepts to new concepts. Look for similarities among problems. Connect solutions of problems to more complicated large-scale situations.",
         "https://www.cpalms.org/PreviewStandard/Preview/15878"
        ]
       ],
       "shape": {
        "columns": 5,
        "rows": 5
       }
      },
      "text/html": [
       "<div>\n",
       "<style scoped>\n",
       "    .dataframe tbody tr th:only-of-type {\n",
       "        vertical-align: middle;\n",
       "    }\n",
       "\n",
       "    .dataframe tbody tr th {\n",
       "        vertical-align: top;\n",
       "    }\n",
       "\n",
       "    .dataframe thead th {\n",
       "        text-align: right;\n",
       "    }\n",
       "</style>\n",
       "<table border=\"1\" class=\"dataframe\">\n",
       "  <thead>\n",
       "    <tr style=\"text-align: right;\">\n",
       "      <th></th>\n",
       "      <th>ID</th>\n",
       "      <th>Grade Level</th>\n",
       "      <th>Subject</th>\n",
       "      <th>Definition</th>\n",
       "      <th>CPALMS URL</th>\n",
       "    </tr>\n",
       "  </thead>\n",
       "  <tbody>\n",
       "    <tr>\n",
       "      <th>0</th>\n",
       "      <td>MA.K12.MTR.1.1</td>\n",
       "      <td>K12</td>\n",
       "      <td>Mathematics</td>\n",
       "      <td>Actively participate in effortful learning bot...</td>\n",
       "      <td>https://www.cpalms.org/PreviewStandard/Preview...</td>\n",
       "    </tr>\n",
       "    <tr>\n",
       "      <th>1</th>\n",
       "      <td>MA.K12.MTR.2.1</td>\n",
       "      <td>K12</td>\n",
       "      <td>Mathematics</td>\n",
       "      <td>Demonstrate understanding by representing prob...</td>\n",
       "      <td>https://www.cpalms.org/PreviewStandard/Preview...</td>\n",
       "    </tr>\n",
       "    <tr>\n",
       "      <th>2</th>\n",
       "      <td>MA.K12.MTR.3.1</td>\n",
       "      <td>K12</td>\n",
       "      <td>Mathematics</td>\n",
       "      <td>Complete tasks with mathematical fluency. Math...</td>\n",
       "      <td>https://www.cpalms.org/PreviewStandard/Preview...</td>\n",
       "    </tr>\n",
       "    <tr>\n",
       "      <th>3</th>\n",
       "      <td>MA.K12.MTR.4.1</td>\n",
       "      <td>K12</td>\n",
       "      <td>Mathematics</td>\n",
       "      <td>Engage in discussions that reflect on the math...</td>\n",
       "      <td>https://www.cpalms.org/PreviewStandard/Preview...</td>\n",
       "    </tr>\n",
       "    <tr>\n",
       "      <th>4</th>\n",
       "      <td>MA.K12.MTR.5.1</td>\n",
       "      <td>K12</td>\n",
       "      <td>Mathematics</td>\n",
       "      <td>Use patterns and structure to help understand ...</td>\n",
       "      <td>https://www.cpalms.org/PreviewStandard/Preview...</td>\n",
       "    </tr>\n",
       "  </tbody>\n",
       "</table>\n",
       "</div>"
      ],
      "text/plain": [
       "               ID Grade Level      Subject  \\\n",
       "0  MA.K12.MTR.1.1         K12  Mathematics   \n",
       "1  MA.K12.MTR.2.1         K12  Mathematics   \n",
       "2  MA.K12.MTR.3.1         K12  Mathematics   \n",
       "3  MA.K12.MTR.4.1         K12  Mathematics   \n",
       "4  MA.K12.MTR.5.1         K12  Mathematics   \n",
       "\n",
       "                                          Definition  \\\n",
       "0  Actively participate in effortful learning bot...   \n",
       "1  Demonstrate understanding by representing prob...   \n",
       "2  Complete tasks with mathematical fluency. Math...   \n",
       "3  Engage in discussions that reflect on the math...   \n",
       "4  Use patterns and structure to help understand ...   \n",
       "\n",
       "                                          CPALMS URL  \n",
       "0  https://www.cpalms.org/PreviewStandard/Preview...  \n",
       "1  https://www.cpalms.org/PreviewStandard/Preview...  \n",
       "2  https://www.cpalms.org/PreviewStandard/Preview...  \n",
       "3  https://www.cpalms.org/PreviewStandard/Preview...  \n",
       "4  https://www.cpalms.org/PreviewStandard/Preview...  "
      ]
     },
     "execution_count": 13,
     "metadata": {},
     "output_type": "execute_result"
    }
   ],
   "source": [
    "# Search for benchmarks by ID pattern\n",
    "search_term = \"MA.K\"  # Change this to search for different patterns\n",
    "\n",
    "search_results = df[df[\"ID\"].str.contains(search_term)]\n",
    "print(f\"Found {len(search_results)} benchmarks matching '{search_term}'\")\n",
    "search_results.head()"
   ]
  },
  {
   "cell_type": "markdown",
   "metadata": {},
   "source": [
    "## View a specific benchmark in detail"
   ]
  },
  {
   "cell_type": "code",
   "execution_count": 14,
   "metadata": {
    "execution": {
     "iopub.execute_input": "2025-02-26T05:00:29.420079Z",
     "iopub.status.busy": "2025-02-26T05:00:29.414643Z",
     "iopub.status.idle": "2025-02-26T05:00:29.429234Z",
     "shell.execute_reply": "2025-02-26T05:00:29.428689Z"
    }
   },
   "outputs": [
    {
     "name": "stdout",
     "output_type": "stream",
     "text": [
      "Benchmark ID: MA.K12.MTR.1.1\n",
      "Grade Level: K12\n",
      "Subject: Mathematics\n",
      "CPALMS URL: https://www.cpalms.org/PreviewStandard/Preview/15875\n",
      "\n",
      "Definition:\n",
      "Actively participate in effortful learning both individually and collectively. Mathematicians who participate in effortful learning both individually and with others: Analyze the problem in a way that makes sense given the task. Ask questions that will help with solving the task. Build perseverance by modifying methods as needed while solving a challenging task. Stay engaged and maintain a positive mindset when working to solve tasks. Help and support each other when attempting a new method or approach.\n"
     ]
    }
   ],
   "source": [
    "# View a specific benchmark (change the ID as needed)\n",
    "benchmark_id = list(benchmarks.keys())[0]  # First benchmark by default\n",
    "\n",
    "if benchmark_id in benchmarks:\n",
    "    benchmark = benchmarks[benchmark_id]\n",
    "    print(f\"Benchmark ID: {benchmark_id}\")\n",
    "    print(f\"Grade Level: {benchmark.grade_level}\")\n",
    "    print(f\"Subject: {benchmark.subject}\")\n",
    "    print(f\"CPALMS URL: {benchmark.cpalms_url if hasattr(benchmark, 'cpalms_url') else 'Not available'}\")\n",
    "    print(f\"\\nDefinition:\")\n",
    "    print(benchmark.definition)\n",
    "else:\n",
    "    print(f\"Benchmark {benchmark_id} not found\")"
   ]
  }
 ],
 "metadata": {
  "kernelspec": {
   "display_name": "fl_doe_standards",
   "language": "python",
   "name": "python3"
  },
  "language_info": {
   "codemirror_mode": {
    "name": "ipython",
    "version": 3
   },
   "file_extension": ".py",
   "mimetype": "text/x-python",
   "name": "python",
   "nbconvert_exporter": "python",
   "pygments_lexer": "ipython3",
   "version": "3.11.11"
  }
 },
 "nbformat": 4,
 "nbformat_minor": 4
}
